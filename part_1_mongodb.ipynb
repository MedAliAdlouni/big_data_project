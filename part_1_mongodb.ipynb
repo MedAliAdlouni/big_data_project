{
 "cells": [
  {
   "cell_type": "markdown",
   "metadata": {},
   "source": [
    "# Projet : 'Big Data Management'\n"
   ]
  },
  {
   "cell_type": "markdown",
   "metadata": {},
   "source": [
    "## À propos\n",
    "\n",
    "- **Auteur** : Mohammed Ali EL ADLOUNI  \n",
    "- **Master** : Master M2 MALIA \n",
    "- **Date** : 27/01/2024  \n",
    "\n",
    "L'objectif de ce TP est de mettre en pratique le requêtage via une algèbre en utilisant MongoDB.\n",
    "\n",
    "Dans une première partie, on prendra en main le shell MongoDB ainsi que les requêtes de base.\n",
    "\n",
    "Dans une seconde partie, on prendra en main quelques opérateurs d'aggrégation.\n",
    "\n",
    "Dans la troisième partie on combinera les opérations d'aggrégation dans des pipelines plus complexes.\n",
    "\n"
   ]
  },
  {
   "cell_type": "markdown",
   "metadata": {},
   "source": [
    "## Partie 1 | Premières requêtes\n"
   ]
  },
  {
   "cell_type": "markdown",
   "metadata": {},
   "source": [
    "### Requête 1:\n",
    "\n",
    "Question 1 | db.collection.findOne()\n",
    "\n",
    "db.collection.findOne(): renvoie un document de la collection (doc). Pour chacune des collections grades et zip, récupérer un document, puis en déduire un type pour les éléments de cette collection.\n",
    "\n"
   ]
  },
  {
   "cell_type": "code",
   "execution_count": null,
   "metadata": {
    "vscode": {
     "languageId": "javascript"
    }
   },
   "outputs": [],
   "source": [
    "db.grades.findOne();\n",
    "db.zips.findOne();"
   ]
  },
  {
   "cell_type": "markdown",
   "metadata": {},
   "source": [
    "Résultats:"
   ]
  },
  {
   "cell_type": "code",
   "execution_count": null,
   "metadata": {
    "vscode": {
     "languageId": "javascript"
    }
   },
   "outputs": [],
   "source": [
    "{\n",
    "    _id: ObjectId('50b59cd75bed76f46522c34e'),\n",
    "    student_id: 0,\n",
    "    class_id: 2,\n",
    "    scores: [\n",
    "      {\n",
    "        type: 'exam',\n",
    "        score: 57.92947112575566\n",
    "      },\n",
    "      {\n",
    "        type: 'quiz',\n",
    "        score: 21.24542588206755\n",
    "      },\n",
    "      {\n",
    "        type: 'homework',\n",
    "        score: 68.1956781058743\n",
    "      },\n",
    "      {\n",
    "        type: 'homework',\n",
    "        score: 67.95019716560351\n",
    "      },\n",
    "      {\n",
    "        type: 'homework',\n",
    "        score: 18.81037253352722\n",
    "      }\n",
    "    ]\n",
    "  }"
   ]
  },
  {
   "cell_type": "code",
   "execution_count": null,
   "metadata": {
    "vscode": {
     "languageId": "javascript"
    }
   },
   "outputs": [],
   "source": [
    "{\n",
    "    _id: '01001',\n",
    "    city: 'AGAWAM',\n",
    "    loc: [\n",
    "      -72.622739,\n",
    "      42.070206\n",
    "    ],\n",
    "    pop: 15338,\n",
    "    state: 'MA'\n",
    "  }"
   ]
  },
  {
   "cell_type": "markdown",
   "metadata": {},
   "source": [
    "### Requête 2\n",
    "\n",
    "db.collection.find({}): récupère les documents de la collection sans les filtrer (doc).\n",
    "Récupérer quelques documents de grades et vérifier qu'ils sont conformes au type de la question précédente.\n",
    "\n"
   ]
  },
  {
   "cell_type": "markdown",
   "metadata": {},
   "source": [
    "\n",
    "Output :\n"
   ]
  },
  {
   "cell_type": "code",
   "execution_count": null,
   "metadata": {
    "vscode": {
     "languageId": "javascript"
    }
   },
   "outputs": [],
   "source": [
    "{\n",
    "    _id: ObjectId('50b59cd75bed76f46522c351'),\n",
    "    student_id: 0,\n",
    "    class_id: 16,\n",
    "    scores: [\n",
    "      {\n",
    "        type: 'exam',\n",
    "        score: 59.1805667559299\n",
    "      },\n",
    "      {\n",
    "        type: 'quiz',\n",
    "        score: 47.58960202938239\n",
    "      },\n",
    "      {\n",
    "        type: 'homework',\n",
    "        score: 6.48470951607214\n",
    "      },\n",
    "      {\n",
    "        type: 'homework',\n",
    "        score: 68.33519637418685\n",
    "      },\n",
    "      {\n",
    "        type: 'homework',\n",
    "        score: 78.53068038180965\n",
    "      }\n",
    "    ]\n",
    "  }"
   ]
  },
  {
   "cell_type": "markdown",
   "metadata": {},
   "source": [
    "### Requête 3\n",
    "db.collection.find({}).countDocuments(): compte le nombre de résultats de la requête.\n",
    "Donner le nombre de résultats de la requête précédente (résultat attendu: 280).\n",
    "\n"
   ]
  },
  {
   "cell_type": "code",
   "execution_count": null,
   "metadata": {
    "vscode": {
     "languageId": "javascript"
    }
   },
   "outputs": [],
   "source": [
    "db.grades.countDocuments();\n"
   ]
  },
  {
   "cell_type": "markdown",
   "metadata": {},
   "source": [
    "Le nombre de résultats obtenus est de 280\n"
   ]
  },
  {
   "cell_type": "markdown",
   "metadata": {},
   "source": [
    "### Requête 4\n",
    "db.collection.find({ field: value }): récupère les documents dont le champ field a la valeur value. Il est possible de spécifier plusieurs champs.\n",
    "Récupérer les documents dont le class_id vaut 20 dans la collection grades (7 résultats).\n",
    "\n"
   ]
  },
  {
   "cell_type": "code",
   "execution_count": null,
   "metadata": {
    "vscode": {
     "languageId": "javascript"
    }
   },
   "outputs": [],
   "source": [
    "db.grades.find({ class_id: 20 });\n"
   ]
  },
  {
   "cell_type": "markdown",
   "metadata": {},
   "source": [
    "7 résultats obtenus.\n",
    "\n",
    "Exemple de output:"
   ]
  },
  {
   "cell_type": "code",
   "execution_count": null,
   "metadata": {
    "vscode": {
     "languageId": "javascript"
    }
   },
   "outputs": [],
   "source": [
    "{\n",
    "    _id: ObjectId('50b59cd75bed76f46522c37a'),\n",
    "    student_id: 6,\n",
    "    class_id: 20,\n",
    "    scores: [\n",
    "      {\n",
    "        type: 'exam',\n",
    "        score: 55.41495979162525\n",
    "      },\n",
    "      {\n",
    "        type: 'quiz',\n",
    "        score: 80.78090944766167\n",
    "      },\n",
    "      {\n",
    "        type: 'homework',\n",
    "        score: 5.32775635719569\n",
    "      }\n",
    "    ]\n",
    "  }"
   ]
  },
  {
   "cell_type": "markdown",
   "metadata": {},
   "source": [
    "### Requête 5 :\n",
    "db.collection.find({ field: { op: value } }): exprime une condition de sélection sur le champ field: op est la fonctionde comparaison et value la valeur à laquelle on veut comparer la valeur du champ (doc des opérateur de sélection).\n",
    "Récupérer les documents dont le class_id est inférieur ou égal à 20. L'opérateur inférieur ou égal se note $lte. (188 résultats)\n",
    "\n"
   ]
  },
  {
   "cell_type": "code",
   "execution_count": null,
   "metadata": {
    "vscode": {
     "languageId": "javascript"
    }
   },
   "outputs": [],
   "source": [
    "db.grades.find({ class_id: { $lte: 20 } });\n"
   ]
  },
  {
   "cell_type": "markdown",
   "metadata": {},
   "source": [
    "Exemple de output:"
   ]
  },
  {
   "cell_type": "code",
   "execution_count": null,
   "metadata": {
    "vscode": {
     "languageId": "javascript"
    }
   },
   "outputs": [],
   "source": [
    "{\n",
    "    _id: ObjectId('50b59cd75bed76f46522c36d'),\n",
    "    student_id: 4,\n",
    "    class_id: 8,\n",
    "    scores: [\n",
    "      {\n",
    "        type: 'exam',\n",
    "        score: 60.13912489935064\n",
    "      },\n",
    "      {\n",
    "        type: 'quiz',\n",
    "        score: 16.49453097445802\n",
    "      },\n",
    "      {\n",
    "        type: 'homework',\n",
    "        score: 20.64686745448644\n",
    "      },\n",
    "      {\n",
    "        type: 'homework',\n",
    "        score: 72.03200074025955\n",
    "      },\n",
    "      {\n",
    "        type: 'homework',\n",
    "        score: 23.97256438707867\n",
    "      }\n",
    "    ]\n",
    "  }"
   ]
  },
  {
   "cell_type": "markdown",
   "metadata": {},
   "source": [
    "### Requête 6:\n",
    "db.collection.find({ $expr: { arbre de syntaxe de l'expression en json} } ): exprime une condition générique. La syntaxe est la représentation en json de l'expression (doc). Les champs sont représentés par la syntaxe $champ ou $champ1.souschamp2. Les arguments sont souvent donnés sous forme d'une liste (mais il faut vérifier la documentation de chaque opérateur). Par exemple, { $lte: [ \"$class_id\", 20 ] } est une expression indiquant que le champ class_id (via \"$class_id\") est inférieur ($lte) à 20.\n"
   ]
  },
  {
   "cell_type": "code",
   "execution_count": null,
   "metadata": {
    "vscode": {
     "languageId": "javascript"
    }
   },
   "outputs": [],
   "source": [
    "db.grades.find({ \n",
    "    $expr: { \n",
    "      $gte: [\"$student_id\", \"$class_id\"] \n",
    "    } \n",
    "  });\n",
    "  "
   ]
  },
  {
   "cell_type": "markdown",
   "metadata": {},
   "source": [
    "On obtient 188 résultats !"
   ]
  },
  {
   "cell_type": "code",
   "execution_count": null,
   "metadata": {
    "vscode": {
     "languageId": "javascript"
    }
   },
   "outputs": [],
   "source": [
    "{\n",
    "    _id: ObjectId('50b59cd75bed76f46522c3a6'),\n",
    "    student_id: 15,\n",
    "    class_id: 0,\n",
    "    scores: [\n",
    "      {\n",
    "        type: 'exam',\n",
    "        score: 84.22482529114681\n",
    "      },\n",
    "      {\n",
    "        type: 'quiz',\n",
    "        score: 68.51195197931716\n",
    "      },\n",
    "      {\n",
    "        type: 'homework',\n",
    "        score: 48.135589104224\n",
    "      }\n",
    "    ]\n",
    "  }"
   ]
  },
  {
   "cell_type": "markdown",
   "metadata": {},
   "source": [
    "### Requête 7:\n",
    "Récupérer les documents dont le class_id est compris entre 10et 20 (100 résultats). Faire une version avec un double filtre sur le champ class_id (via la syntaxe { field: { op1: value1, op2: value2 } }), puis une autre version avec un $expr contenant un $and.\n",
    "\n"
   ]
  },
  {
   "cell_type": "markdown",
   "metadata": {},
   "source": [
    "Version 1"
   ]
  },
  {
   "cell_type": "code",
   "execution_count": null,
   "metadata": {
    "vscode": {
     "languageId": "javascript"
    }
   },
   "outputs": [],
   "source": [
    "\n",
    "db.grades.find({ \n",
    "    class_id: { \n",
    "      $lte: 20, \n",
    "      $gte: 10 \n",
    "    } \n",
    "  });\n",
    "  "
   ]
  },
  {
   "cell_type": "markdown",
   "metadata": {},
   "source": [
    "Version 2"
   ]
  },
  {
   "cell_type": "code",
   "execution_count": null,
   "metadata": {
    "vscode": {
     "languageId": "javascript"
    }
   },
   "outputs": [],
   "source": [
    "db.grades.find({ \n",
    "    $expr: { \n",
    "      $and: [\n",
    "        { $gte: [ \"$class_id\", 10 ] }, \n",
    "        { $lte: [ \"$class_id\", 20 ] }\n",
    "      ] \n",
    "    } \n",
    "  });\n"
   ]
  },
  {
   "cell_type": "markdown",
   "metadata": {},
   "source": [
    "On obtient 100 résultats!"
   ]
  },
  {
   "cell_type": "code",
   "execution_count": null,
   "metadata": {
    "vscode": {
     "languageId": "javascript"
    }
   },
   "outputs": [],
   "source": [
    "{\n",
    "    _id: ObjectId('50b59cd75bed76f46522c383'),\n",
    "    student_id: 8,\n",
    "    class_id: 11,\n",
    "    scores: [\n",
    "      {\n",
    "        type: 'exam',\n",
    "        score: 89.12537830331416\n",
    "      },\n",
    "      {\n",
    "        type: 'quiz',\n",
    "        score: 11.48939533818351\n",
    "      },\n",
    "      {\n",
    "        type: 'homework',\n",
    "        score: 16.96585149869495\n",
    "      },\n",
    "      {\n",
    "        type: 'homework',\n",
    "        score: 17.8760904208101\n",
    "      },\n",
    "      {\n",
    "        type: 'homework',\n",
    "        score: 80.93286662099982\n",
    "      },\n",
    "      {\n",
    "        type: 'homework',\n",
    "        score: 28.93004389653184\n",
    "      }\n",
    "    ]\n",
    "  }"
   ]
  },
  {
   "cell_type": "markdown",
   "metadata": {},
   "source": [
    "### Requête 8:\n",
    "db.collection.find({condition}, { projection spec } ): permet de choisir les champs de sortie de la requête (doc). Il est possible de supprimer des champs, voir de créer de nouveaux champs en utilisant une expression comme ci-dessus.\n"
   ]
  },
  {
   "cell_type": "code",
   "execution_count": null,
   "metadata": {
    "vscode": {
     "languageId": "javascript"
    }
   },
   "outputs": [],
   "source": [
    "db.grades.find({}, { \n",
    "    \"ue\": \"$class_id\", \n",
    "    \"etu\": \"$student_id\", \n",
    "    \"_id\": 0 \n",
    "  });\n",
    "  "
   ]
  },
  {
   "cell_type": "markdown",
   "metadata": {},
   "source": [
    "On obtient 280 résultats!"
   ]
  },
  {
   "cell_type": "code",
   "execution_count": null,
   "metadata": {
    "vscode": {
     "languageId": "javascript"
    }
   },
   "outputs": [],
   "source": [
    "{\n",
    "    ue: 16,\n",
    "    etu: 0\n",
    "  }"
   ]
  },
  {
   "cell_type": "markdown",
   "metadata": {},
   "source": [
    "## Partie 2 | Prise en main de quelques étapes d'agrégation\n",
    "\n",
    "En MongoDB, les requêtes complexes s'effectuent entre autres via le pipeline d'agrégation. Ce pipeline est constituées d'étapes de transformation successives appliquées à une collection et passées sous forme de liste à db.collection.aggregate.\n"
   ]
  },
  {
   "cell_type": "markdown",
   "metadata": {},
   "source": [
    "### Requête 1:\n",
    "{ $project: { projection spec }}: applique une projection spécifiée comme pour le deuxième argument de db.collection.find() (doc).\n",
    "\n"
   ]
  },
  {
   "cell_type": "code",
   "execution_count": null,
   "metadata": {
    "vscode": {
     "languageId": "javascript"
    }
   },
   "outputs": [],
   "source": [
    "db.grades.aggregate([\n",
    "  { \n",
    "    $project: {\n",
    "      somme: { $add: [ \"$class_id\", \"$student_id\" ] },\n",
    "      class_id: 1,\n",
    "      student_id: 1\n",
    "    }\n",
    "  }\n",
    "]);"
   ]
  },
  {
   "cell_type": "markdown",
   "metadata": {},
   "source": [
    "Le nombre de résultats est de 280!"
   ]
  },
  {
   "cell_type": "code",
   "execution_count": null,
   "metadata": {
    "vscode": {
     "languageId": "javascript"
    }
   },
   "outputs": [],
   "source": [
    "{\n",
    "  _id: ObjectId('50b59cd75bed76f46522c361'),\n",
    "  student_id: 3,\n",
    "  class_id: 10,\n",
    "  somme: 13\n",
    "}"
   ]
  },
  {
   "cell_type": "markdown",
   "metadata": {},
   "source": [
    "### Requête 2:\n",
    "{ $match: { find spec } }: applique un filtre similaire au premier argument de db.collection.find().\n"
   ]
  },
  {
   "cell_type": "code",
   "execution_count": null,
   "metadata": {
    "vscode": {
     "languageId": "javascript"
    }
   },
   "outputs": [],
   "source": [
    "db.zips.aggregate([\n",
    "  { \n",
    "    $match: { \n",
    "      pop: { $gte: 10000 } \n",
    "    } \n",
    "  }\n",
    "]);"
   ]
  },
  {
   "cell_type": "markdown",
   "metadata": {},
   "source": [
    "Le nombre de résultats est de 7634!"
   ]
  },
  {
   "cell_type": "code",
   "execution_count": null,
   "metadata": {
    "vscode": {
     "languageId": "javascript"
    }
   },
   "outputs": [],
   "source": [
    "{\n",
    "  _id: '01109',\n",
    "  city: 'SPRINGFIELD',\n",
    "  loc: [\n",
    "    -72.554349,\n",
    "    42.114455\n",
    "  ],\n",
    "  pop: 32635,\n",
    "  state: 'MA'\n",
    "}"
   ]
  },
  {
   "cell_type": "markdown",
   "metadata": {},
   "source": [
    "### REquête 3:\n",
    "{ $sort: {sort spec } }: trie la collection selon les champs spécifiés (doc). Pour chaque champ, on indique s'il est trié par ordre croissant ou décroissant. Les champs sont listés par ordre d'apparition dans l'ordre lexicographique utilisé. Par exemple, sur la collection zips, { state: 1, pop: -1 } inquera de trier par état (state), puis par population (pop) décroissante.\n",
    "\n",
    "Dans la collection grades, renvoyer les documents triés par class_id, puis par student_id (par ordre croissant pour les 2 champs).\n",
    "\n"
   ]
  },
  {
   "cell_type": "code",
   "execution_count": null,
   "metadata": {
    "vscode": {
     "languageId": "javascript"
    }
   },
   "outputs": [],
   "source": [
    "db.grades.aggregate([\n",
    "    { \n",
    "      $sort: { \n",
    "        class_id: 1, \n",
    "        student_id: 1 \n",
    "      } \n",
    "    }\n",
    "  ]);"
   ]
  },
  {
   "cell_type": "code",
   "execution_count": null,
   "metadata": {
    "vscode": {
     "languageId": "javascript"
    }
   },
   "outputs": [],
   "source": [
    "{\n",
    "    _id: ObjectId('50b59cd75bed76f46522c3dd'),\n",
    "    student_id: 25,\n",
    "    class_id: 2,\n",
    "    scores: [\n",
    "      {\n",
    "        type: 'exam',\n",
    "        score: 39.8052260869232\n",
    "      },\n",
    "      {\n",
    "        type: 'quiz',\n",
    "        score: 85.59336208703981\n",
    "      },\n",
    "      {\n",
    "        type: 'homework',\n",
    "        score: 16.3016460205172\n",
    "      },\n",
    "      {\n",
    "        type: 'homework',\n",
    "        score: 4.62963742991297\n",
    "      }\n",
    "    ]\n",
    "  }"
   ]
  },
  {
   "cell_type": "markdown",
   "metadata": {},
   "source": [
    "### Requête 4:\n",
    "Dans la collection grades, produire un document pour chaque élément du tableau contenu dans le champ scores (1241 résultats).\n",
    "\n"
   ]
  },
  {
   "cell_type": "code",
   "execution_count": null,
   "metadata": {
    "vscode": {
     "languageId": "javascript"
    }
   },
   "outputs": [],
   "source": [
    "db.grades.aggregate([\n",
    "    { \n",
    "      $unwind: \"$scores\" \n",
    "    }\n",
    "  ]);"
   ]
  },
  {
   "cell_type": "markdown",
   "metadata": {},
   "source": [
    "Nombre de résultats: 1241\n",
    "\n"
   ]
  },
  {
   "cell_type": "code",
   "execution_count": null,
   "metadata": {
    "vscode": {
     "languageId": "javascript"
    }
   },
   "outputs": [],
   "source": [
    "{\n",
    "    _id: ObjectId('50b59cd75bed76f46522c352'),\n",
    "    student_id: 0,\n",
    "    class_id: 24,\n",
    "    scores: {\n",
    "      type: 'homework',\n",
    "      score: 86.79352850434199\n",
    "    }\n",
    "  }"
   ]
  },
  {
   "cell_type": "markdown",
   "metadata": {},
   "source": [
    "### Requête 5:\n",
    "Dans la collection zips, donner pour chaque ville la population minimale (16584 résultats).\n",
    "\n"
   ]
  },
  {
   "cell_type": "code",
   "execution_count": null,
   "metadata": {
    "vscode": {
     "languageId": "javascript"
    }
   },
   "outputs": [],
   "source": [
    "db.zips.aggregate([\n",
    "    { \n",
    "      $group: {\n",
    "        _id: \"$city\",\n",
    "        minpop: { $min: \"$pop\" }\n",
    "      } \n",
    "    }\n",
    "  ]);"
   ]
  },
  {
   "cell_type": "markdown",
   "metadata": {},
   "source": [
    "Nombre de résultats: 16584\n",
    "\n"
   ]
  },
  {
   "cell_type": "code",
   "execution_count": null,
   "metadata": {
    "vscode": {
     "languageId": "javascript"
    }
   },
   "outputs": [],
   "source": [
    "{\n",
    "    _id: 'SMUGGLERS NOTCH',\n",
    "    minpop: 300\n",
    "  }"
   ]
  },
  {
   "cell_type": "markdown",
   "metadata": {},
   "source": [
    "### Requête 6:\n",
    "Effectuer une jointure entre grades et zips sur les champs student_id et pop. Quel est le type du résultat ?\n",
    "\n"
   ]
  },
  {
   "cell_type": "code",
   "execution_count": null,
   "metadata": {
    "vscode": {
     "languageId": "javascript"
    }
   },
   "outputs": [],
   "source": [
    "db.grades.aggregate([\n",
    "    { \n",
    "      $lookup: {\n",
    "        from: \"zips\", \n",
    "        localField: \"student_id\", \n",
    "        foreignField: \"pop\",\n",
    "        as: \"zipsdocs\"\n",
    "      } \n",
    "    }\n",
    "  ])"
   ]
  },
  {
   "cell_type": "markdown",
   "metadata": {},
   "source": [
    "Nombre de résultats: 280\n",
    "\n"
   ]
  },
  {
   "cell_type": "code",
   "execution_count": null,
   "metadata": {
    "vscode": {
     "languageId": "javascript"
    }
   },
   "outputs": [],
   "source": [
    "{\n",
    "    _id: ObjectId('50b59cd75bed76f46522c361'),\n",
    "    student_id: 3,\n",
    "    class_id: 10,\n",
    "    scores: [\n",
    "      {\n",
    "        type: 'exam',\n",
    "        score: 35.47946463550763\n",
    "      },\n",
    "      {\n",
    "        type: 'quiz',\n",
    "        score: 94.14222652833352\n",
    "      },\n",
    "      {\n",
    "        type: 'homework',\n",
    "        score: 58.43343860077279\n",
    "      },\n",
    "      {\n",
    "        type: 'homework',\n",
    "        score: 66.83562834109681\n",
    "      }\n",
    "    ],\n",
    "    zipsdocs: [\n",
    "      {\n",
    "        _id: '04570',\n",
    "        city: 'SQUIRREL ISLAND',\n",
    "        loc: [\n",
    "          -69.630974,\n",
    "          43.809031\n",
    "        ],\n",
    "        pop: 3,\n",
    "        state: 'ME'\n",
    "      },\n",
    "      {\n",
    "        _id: '60604',\n",
    "        city: 'CHICAGO',\n",
    "        loc: [\n",
    "          -87.632999,\n",
    "          41.87845\n",
    "        ],\n",
    "        pop: 3,\n",
    "        state: 'IL'\n",
    "      },\n",
    "      {\n",
    "        _id: '99692',\n",
    "        city: 'DUTCH HARBOR',\n",
    "        loc: [\n",
    "          -167.510656,\n",
    "          53.362757\n",
    "        ],\n",
    "        pop: 3,\n",
    "        state: 'AK'\n",
    "      }\n",
    "    ]\n",
    "  }"
   ]
  },
  {
   "cell_type": "markdown",
   "metadata": {},
   "source": [
    "## Partie 3 | Pipelines d'agrégation\n",
    "\n",
    "Dans cette partie, on va créer des pipelines d'aggrégation en enchaînant plusieurs opérateurs. Il faudra prévoir l'enchaînement des transformations à effectuer, et pour chaque transformation du pipeline, bien prévoir le type des documents du résultat afin de pourvoir configurer correctement les transformations suivantes.\n",
    "\n"
   ]
  },
  {
   "cell_type": "markdown",
   "metadata": {},
   "source": [
    "### Requête 1:\n",
    "Calculer le nombre de notes de chaque type. Indice: Commencer par extraire les notes individuellement avec $unwind. Indice: On peut calculer un nombre d'occurrences en sommant la valeur 1 sur un groupe.\n"
   ]
  },
  {
   "cell_type": "code",
   "execution_count": null,
   "metadata": {
    "vscode": {
     "languageId": "javascript"
    }
   },
   "outputs": [],
   "source": [
    "db.grades.aggregate([\n",
    "    { \n",
    "      $unwind: \"$scores\" \n",
    "    },\n",
    "    { \n",
    "      $group: {\n",
    "        _id: \"$scores.type\",\n",
    "        nombre: { $sum: 1 }\n",
    "      } \n",
    "    }\n",
    "  ]);"
   ]
  },
  {
   "cell_type": "code",
   "execution_count": null,
   "metadata": {
    "vscode": {
     "languageId": "javascript"
    }
   },
   "outputs": [],
   "source": [
    "{\n",
    "    \"_id\": \"exam\",\n",
    "    \"nombre\": 280\n",
    "  }\n",
    "  {\n",
    "    \"_id\": \"quiz\",\n",
    "    \"nombre\": 280\n",
    "  }\n",
    "  {\n",
    "    \"_id\": \"homework\",\n",
    "    \"nombre\": 681\n",
    "  }"
   ]
  },
  {
   "cell_type": "markdown",
   "metadata": {},
   "source": [
    "### Requête 2:\n",
    "Donner pour chaque matière, la meilleure note d'examen.\n",
    "\n"
   ]
  },
  {
   "cell_type": "code",
   "execution_count": null,
   "metadata": {
    "vscode": {
     "languageId": "javascript"
    }
   },
   "outputs": [],
   "source": [
    "db.grades.aggregate([\n",
    "    { \n",
    "      $unwind: \"$scores\" \n",
    "    },\n",
    "    { \n",
    "      $match: { \"scores.type\": \"exam\" } \n",
    "    },\n",
    "    { \n",
    "      $group: {\n",
    "        _id: \"$class_id\",\n",
    "        meilleure: { $max: \"$scores.score\" }\n",
    "      } \n",
    "    }\n",
    "  ]);"
   ]
  },
  {
   "cell_type": "markdown",
   "metadata": {},
   "source": [
    "Nombre de résultats: 31"
   ]
  },
  {
   "cell_type": "code",
   "execution_count": null,
   "metadata": {
    "vscode": {
     "languageId": "javascript"
    }
   },
   "outputs": [],
   "source": [
    "{\n",
    "    _id: 20,\n",
    "    meilleure: 99.70054435154259\n",
    "  }"
   ]
  },
  {
   "cell_type": "markdown",
   "metadata": {},
   "source": [
    "### Requête 3:\n",
    "Donner les dix villes les plus peuplées. Indice: On pourra utiliser l'étape $limit.\n"
   ]
  },
  {
   "cell_type": "code",
   "execution_count": null,
   "metadata": {
    "vscode": {
     "languageId": "javascript"
    }
   },
   "outputs": [],
   "source": [
    "db.zips.aggregate([\n",
    "    { \n",
    "      $group: {\n",
    "        _id: { city: \"$city\", state: \"$state\" },\n",
    "        total: { $sum: \"$pop\" }\n",
    "      } \n",
    "    },\n",
    "    { \n",
    "      $sort: { total: -1 } \n",
    "    },\n",
    "    { \n",
    "      $limit: 10 \n",
    "    },\n",
    "    { \n",
    "      $project: {\n",
    "        city: \"$_id.city\",\n",
    "        state: \"$_id.state\",\n",
    "        total: 1\n",
    "      } \n",
    "    }\n",
    "  ]);"
   ]
  },
  {
   "cell_type": "markdown",
   "metadata": {},
   "source": [
    "Nombre de résultats: 10\n",
    "\n"
   ]
  },
  {
   "cell_type": "code",
   "execution_count": null,
   "metadata": {
    "vscode": {
     "languageId": "javascript"
    }
   },
   "outputs": [],
   "source": [
    "{\n",
    "    _id: {\n",
    "      city: 'DETROIT',\n",
    "      state: 'MI'\n",
    "    },\n",
    "    total: 963243,\n",
    "    city: 'DETROIT',\n",
    "    state: 'MI'\n",
    "  }"
   ]
  },
  {
   "cell_type": "markdown",
   "metadata": {},
   "source": [
    "### Requête 4:\n",
    "Donner la population moyenne des villes pour chaque état.\n"
   ]
  },
  {
   "cell_type": "code",
   "execution_count": null,
   "metadata": {
    "vscode": {
     "languageId": "javascript"
    }
   },
   "outputs": [],
   "source": [
    "db.zips.aggregate([\n",
    "    { \n",
    "      $group: {\n",
    "        _id: { city: \"$city\", state: \"$state\" },\n",
    "        popcity: { $sum: \"$pop\" }\n",
    "      } \n",
    "    },\n",
    "    { \n",
    "      $group: {\n",
    "        _id: \"$_id.state\",\n",
    "        popmoy: { $avg: \"$popcity\" }\n",
    "      } \n",
    "    }\n",
    "  ]);"
   ]
  },
  {
   "cell_type": "markdown",
   "metadata": {},
   "source": [
    "Nombre de résultats: 51\n",
    "\n"
   ]
  },
  {
   "cell_type": "code",
   "execution_count": null,
   "metadata": {
    "vscode": {
     "languageId": "javascript"
    }
   },
   "outputs": [],
   "source": [
    "{\n",
    "    _id: 'LA',\n",
    "    popmoy: 10465.496277915632\n",
    "  }"
   ]
  },
  {
   "cell_type": "markdown",
   "metadata": {},
   "source": [
    "### Requête 5:\n",
    "Donner pour chaque matière, les étudiants ayant une note d'examen supérieure à 50. Indice: On pourra utiliser l'opérateur d'agrégation $push dans un $group pour constituer la liste.\n"
   ]
  },
  {
   "cell_type": "code",
   "execution_count": null,
   "metadata": {
    "vscode": {
     "languageId": "javascript"
    }
   },
   "outputs": [],
   "source": [
    "db.grades.aggregate([\n",
    "    { \n",
    "      $unwind: \"$scores\" \n",
    "    },\n",
    "    { \n",
    "      $match: { \n",
    "        \"scores.type\": \"exam\",\n",
    "        \"scores.score\": { $gte: 50.0 }\n",
    "      } \n",
    "    },\n",
    "    { \n",
    "      $group: {\n",
    "        _id: \"$class_id\",\n",
    "        students: { $push: \"$student_id\" }\n",
    "      } \n",
    "    }\n",
    "  ]);"
   ]
  },
  {
   "cell_type": "markdown",
   "metadata": {},
   "source": [
    "Nombre de résultats: 31\n",
    "\n"
   ]
  },
  {
   "cell_type": "code",
   "execution_count": null,
   "metadata": {
    "vscode": {
     "languageId": "javascript"
    }
   },
   "outputs": [],
   "source": [
    "{\n",
    "    _id: 4,\n",
    "    students: [\n",
    "      12,\n",
    "      18,\n",
    "      30\n",
    "    ]\n",
    "  }"
   ]
  },
  {
   "cell_type": "markdown",
   "metadata": {},
   "source": [
    "### Requête 6:\n",
    "Donner pour chaque étudiant et chaque matière sa note générale. La note générale est la moyenne de chaque type de note. S'il y a plusieurs notes d'un même type, on prendra d'abord la moyenne de ce type avant de l'utiliser pour calculer la moyenne avec les autres types. Indice: Commencer par calculer pour chaque étudiant, chaque matière et chaque type de note sa moyenne.\n"
   ]
  },
  {
   "cell_type": "code",
   "execution_count": null,
   "metadata": {
    "vscode": {
     "languageId": "javascript"
    }
   },
   "outputs": [],
   "source": [
    "db.grades.aggregate([\n",
    "    { \n",
    "      $unwind: \"$scores\" \n",
    "    },\n",
    "    { \n",
    "      $group: {\n",
    "        _id: { \n",
    "          class_id: \"$class_id\",\n",
    "          student_id: \"$student_id\",\n",
    "          type: \"$scores.type\"\n",
    "        },\n",
    "        moy: { $avg: \"$scores.score\" }\n",
    "      } \n",
    "    },\n",
    "    { \n",
    "      $group: {\n",
    "        _id: { \n",
    "          class_id: \"$_id.class_id\", \n",
    "          student_id: \"$_id.student_id\" \n",
    "        }, \n",
    "        note: { $avg: \"$moy\" }\n",
    "      } \n",
    "    }\n",
    "  ]);"
   ]
  },
  {
   "cell_type": "markdown",
   "metadata": {},
   "source": [
    "Nombre de résultats: 280"
   ]
  },
  {
   "cell_type": "code",
   "execution_count": null,
   "metadata": {
    "vscode": {
     "languageId": "javascript"
    }
   },
   "outputs": [],
   "source": [
    "{\n",
    "    _id: {\n",
    "      class_id: 16,\n",
    "      student_id: 9\n",
    "    },\n",
    "    note: 66.31490029882045\n",
    "  }"
   ]
  },
  {
   "cell_type": "markdown",
   "metadata": {},
   "source": [
    "### Requête 7:\n",
    "Donner, pour chaque matière le type d'épreuve la mieux réussie. Le type d'épreuve la mieux réussie est celui ayant la meilleure moyenne, calculée sur l'ensemble des notes de ce type pour cette matière. Indice: Un moyen de faire consiste à calculer la meilleure moyenne (via $max), tout en conservant l'ensemble des moyennes dans un tableau via $push.\n"
   ]
  },
  {
   "cell_type": "code",
   "execution_count": null,
   "metadata": {
    "vscode": {
     "languageId": "javascript"
    }
   },
   "outputs": [],
   "source": [
    "db.grades.aggregate([\n",
    "    { \n",
    "      $unwind: \"$scores\" \n",
    "    },\n",
    "    { \n",
    "      $group: {\n",
    "        _id: { \n",
    "          class_id: \"$class_id\",\n",
    "          type: \"$scores.type\"\n",
    "        },\n",
    "        moy: { $avg: \"$scores.score\" }\n",
    "      } \n",
    "    },\n",
    "    { \n",
    "      $group: {\n",
    "        _id: \"$_id.class_id\",\n",
    "        meilleure_moy: { $max: \"$moy\" },\n",
    "        moy_types: { $push: { type: \"$_id.type\", moy: \"$moy\" } }\n",
    "      } \n",
    "    },\n",
    "    { \n",
    "      $unwind: \"$moy_types\" \n",
    "    },\n",
    "    { \n",
    "      $match: { \n",
    "        $expr: { \n",
    "          $eq: [ \"$meilleure_moy\", \"$moy_types.moy\" ] \n",
    "        } \n",
    "      } \n",
    "    },\n",
    "    { \n",
    "      $project: {\n",
    "        class_id: \"$_id\",\n",
    "        epreuve_mieux_reussie: \"$moy_types.type\"\n",
    "      } \n",
    "    }\n",
    "  ]);"
   ]
  },
  {
   "cell_type": "markdown",
   "metadata": {},
   "source": [
    "Nombre de résultats: 31\n",
    "\n"
   ]
  },
  {
   "cell_type": "code",
   "execution_count": null,
   "metadata": {
    "vscode": {
     "languageId": "javascript"
    }
   },
   "outputs": [],
   "source": [
    "{\n",
    "    _id: 4,\n",
    "    class_id: 4,\n",
    "    epreuve_mieux_reussie: 'homework'\n",
    "  }"
   ]
  },
  {
   "cell_type": "markdown",
   "metadata": {},
   "source": [
    "## Conclusion générale\n",
    "\n"
   ]
  },
  {
   "cell_type": "markdown",
   "metadata": {},
   "source": [
    "Ce projet m'a permis d'explorer et de mieux comprendre l'utilisation de MongoDB, une base de données NoSQL, ainsi que la manipulation des données à l'aide du pipeline d'agrégation.\n",
    "\n",
    "### Différences entre bases de données SQL et NoSQL\n",
    "\n",
    "L'une des premières leçons de ce projet a été de comprendre en quoi les bases de données NoSQL, comme MongoDB, diffèrent des bases SQL traditionnelles. Contrairement aux bases relationnelles qui structurent leurs données en tables avec des relations strictes, MongoDB stocke les informations sous forme de documents JSON/BSON. Cette flexibilité permet de mieux gérer des données semi-structurées ou évolutives, sans nécessiter un schéma fixe. De plus, la performance de lecture/écriture est souvent optimisée pour les grands volumes de données.\n",
    "\n",
    "### Fonctionnement du pipeline d'agrégation\n",
    "\n",
    "L'une des découvertes les plus marquantes de ce projet a été l'utilisation du pipeline d'agrégation. Contrairement aux simples requêtes de lecture, qui récupèrent des documents en fonction de filtres, le pipeline d'agrégation permet de transformer, regrouper et analyser les données de manière puissante et efficace.\n",
    "\n",
    "Les principales étapes explorées dans ce projet incluent :\n",
    "\n",
    "- **$match** : Filtrage des documents en fonction de critères spécifiques.\n",
    "- **$group** : Regroupement des documents selon un critère donné et application d'opérations d'agrégation (somme, moyenne, comptage, etc.).\n",
    "- **$sort** : Tri des documents selon un ou plusieurs champs.\n",
    "- **$unwind** : Transformation des tableaux en documents distincts.\n",
    "- **$lookup** : Jointures entre collections, permettant de relier des données similaires à une base relationnelle.\n",
    "\n",
    "L'utilisation de ces opérateurs en combinaison dans un pipeline permet de créer des analyses avancées sans devoir exécuter plusieurs requêtes séparées, ce qui améliore l'efficacité du traitement.\n",
    "\n"
   ]
  }
 ],
 "metadata": {
  "kernelspec": {
   "display_name": "venvemfdkernel",
   "language": "python",
   "name": "venvemfdkernel"
  },
  "language_info": {
   "codemirror_mode": {
    "name": "ipython",
    "version": 3
   },
   "file_extension": ".py",
   "mimetype": "text/x-python",
   "name": "python",
   "nbconvert_exporter": "python",
   "pygments_lexer": "ipython3",
   "version": "3.10.5"
  }
 },
 "nbformat": 4,
 "nbformat_minor": 2
}
